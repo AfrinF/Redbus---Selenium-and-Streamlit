{
 "cells": [
  {
   "cell_type": "code",
   "execution_count": 1,
   "metadata": {},
   "outputs": [],
   "source": [
    "#importing libraries\n",
    "from selenium import webdriver\n",
    "from selenium.webdriver import ActionChains\n",
    "from selenium.webdriver.common.by import By\n",
    "from selenium.webdriver.common.keys import Keys\n",
    "from selenium.common.exceptions import TimeoutException, NoSuchElementException\n",
    "import time\n",
    "from selenium.webdriver.support.ui import WebDriverWait\n",
    "from selenium.webdriver.support import expected_conditions as EC\n",
    "import pandas as pd\n"
   ]
  },
  {
   "cell_type": "code",
   "execution_count": 2,
   "metadata": {},
   "outputs": [],
   "source": [
    "#10 states links\n",
    "state_links=[\"https://www.redbus.in/online-booking/ksrtc-kerala/?utm_source=rtchometile\",\n",
    "             \"https://www.redbus.in/online-booking/apsrtc/?utm_source=rtchometile\",\n",
    "             \"https://www.redbus.in/online-booking/tsrtc/?utm_source=rtchometile\",\n",
    "             \"https://www.redbus.in/online-booking/ktcl/?utm_source=rtchometile\",\n",
    "             \"https://www.redbus.in/online-booking/rsrtc/?utm_source=rtchometile\",\n",
    "             \"https://www.redbus.in/online-booking/south-bengal-state-transport-corporation-sbstc/?utm_source=rtchometile\",\n",
    "             \"https://www.redbus.in/online-booking/hrtc/?utm_source=rtchometile\",\n",
    "             \"https://www.redbus.in/online-booking/astc/?utm_source=rtchometile\",\n",
    "             \"https://www.redbus.in/online-booking/uttar-pradesh-state-road-transport-corporation-upsrtc/?utm_source=rtchometile\",\n",
    "             \"https://www.redbus.in/online-booking/wbtc-ctc/?utm_source=rtchometile\"\n",
    "]"
   ]
  },
  {
   "cell_type": "markdown",
   "metadata": {},
   "source": [
    "# kerala routes"
   ]
  },
  {
   "cell_type": "code",
   "execution_count": 8,
   "metadata": {},
   "outputs": [],
   "source": [
    "#open the browser\n",
    "\n",
    "driver=webdriver.Chrome()\n",
    "\n",
    "#load the webpage\n",
    "\n",
    "driver.get(\"https://www.redbus.in/online-booking/ksrtc-kerala/?utm_source=rtchometile\")\n",
    "\n",
    "time.sleep(3)\n",
    "\n",
    "driver.maximize_window()"
   ]
  },
  {
   "cell_type": "code",
   "execution_count": 9,
   "metadata": {},
   "outputs": [
    {
     "name": "stdout",
     "output_type": "stream",
     "text": [
      "No more pages to paginate at step 2\n"
     ]
    }
   ],
   "source": [
    "#retrive  bus links and route\n",
    "wait = WebDriverWait(driver, 20)\n",
    "def Kerala_link_route(path):   \n",
    "    LINKS_KERALA=[]\n",
    "    ROUTE_KERALA=[]\n",
    "    # retrive the route links \n",
    "    for i in range(1,3):\n",
    "        paths=driver.find_elements(By.XPATH,path)\n",
    "        \n",
    "        for links in paths:\n",
    "            d = links.get_attribute(\"href\")\n",
    "            LINKS_KERALA.append(d)\n",
    "            \n",
    "        # retrive names of the routes\n",
    "        for route in paths:\n",
    "            ROUTE_KERALA.append(route.text)\n",
    "            \n",
    "        try:\n",
    "            # Wait for the pagination element to be present\n",
    "            pagination = wait.until(EC.presence_of_element_located((By.XPATH, '//*[@class=\"DC_117_paginationTable\"]')))\n",
    "            next_button = pagination.find_element(By.XPATH, f'//div[@class=\"DC_117_pageTabs \" and text()={i+1}]')\n",
    "            time.sleep(3)\n",
    "            next_button.click()\n",
    "            \n",
    "        except NoSuchElementException:\n",
    "            print(f\"No more pages to paginate at step {i}\")\n",
    "            break\n",
    "            \n",
    "    return LINKS_KERALA,ROUTE_KERALA\n",
    "\n",
    "LINKS_KERALA,ROUTE_KERALA=Kerala_link_route(\"//a[@class='route']\")"
   ]
  },
  {
   "cell_type": "code",
   "execution_count": 6,
   "metadata": {},
   "outputs": [
    {
     "data": {
      "text/html": [
       "<div>\n",
       "<style scoped>\n",
       "    .dataframe tbody tr th:only-of-type {\n",
       "        vertical-align: middle;\n",
       "    }\n",
       "\n",
       "    .dataframe tbody tr th {\n",
       "        vertical-align: top;\n",
       "    }\n",
       "\n",
       "    .dataframe thead th {\n",
       "        text-align: right;\n",
       "    }\n",
       "</style>\n",
       "<table border=\"1\" class=\"dataframe\">\n",
       "  <thead>\n",
       "    <tr style=\"text-align: right;\">\n",
       "      <th></th>\n",
       "      <th>Route_name</th>\n",
       "      <th>Route_link</th>\n",
       "    </tr>\n",
       "  </thead>\n",
       "  <tbody>\n",
       "    <tr>\n",
       "      <th>0</th>\n",
       "      <td>Kalpetta (kerala) to Bangalore</td>\n",
       "      <td>https://www.redbus.in/bus-tickets/kalpetta-to-...</td>\n",
       "    </tr>\n",
       "    <tr>\n",
       "      <th>1</th>\n",
       "      <td>Thiruvananthapuram to Kozhikode</td>\n",
       "      <td>https://www.redbus.in/bus-tickets/thiruvananth...</td>\n",
       "    </tr>\n",
       "    <tr>\n",
       "      <th>2</th>\n",
       "      <td>Kozhikode to Thrissur</td>\n",
       "      <td>https://www.redbus.in/bus-tickets/kozhikode-to...</td>\n",
       "    </tr>\n",
       "    <tr>\n",
       "      <th>3</th>\n",
       "      <td>Kozhikode to Kottayam</td>\n",
       "      <td>https://www.redbus.in/bus-tickets/kozhikode-to...</td>\n",
       "    </tr>\n",
       "    <tr>\n",
       "      <th>4</th>\n",
       "      <td>Kottayam to Kozhikode</td>\n",
       "      <td>https://www.redbus.in/bus-tickets/kottayam-to-...</td>\n",
       "    </tr>\n",
       "  </tbody>\n",
       "</table>\n",
       "</div>"
      ],
      "text/plain": [
       "                        Route_name  \\\n",
       "0   Kalpetta (kerala) to Bangalore   \n",
       "1  Thiruvananthapuram to Kozhikode   \n",
       "2            Kozhikode to Thrissur   \n",
       "3            Kozhikode to Kottayam   \n",
       "4            Kottayam to Kozhikode   \n",
       "\n",
       "                                          Route_link  \n",
       "0  https://www.redbus.in/bus-tickets/kalpetta-to-...  \n",
       "1  https://www.redbus.in/bus-tickets/thiruvananth...  \n",
       "2  https://www.redbus.in/bus-tickets/kozhikode-to...  \n",
       "3  https://www.redbus.in/bus-tickets/kozhikode-to...  \n",
       "4  https://www.redbus.in/bus-tickets/kottayam-to-...  "
      ]
     },
     "execution_count": 6,
     "metadata": {},
     "output_type": "execute_result"
    }
   ],
   "source": [
    "df_k=pd.DataFrame({\"Route_name\":ROUTE_KERALA,\"Route_link\":LINKS_KERALA})\n",
    "df_k"
   ]
  },
  {
   "cell_type": "code",
   "execution_count": null,
   "metadata": {},
   "outputs": [],
   "source": [
    "# change dataframe to csv\n",
    "path=r\"C:/Users/Kavitha/Desktop/CAPSTONE PROJECT/redbus/df_k.csv\"\n",
    "df_k.to_csv(path,index=False)"
   ]
  },
  {
   "cell_type": "markdown",
   "metadata": {},
   "source": [
    "# Andhra routes"
   ]
  },
  {
   "cell_type": "code",
   "execution_count": null,
   "metadata": {},
   "outputs": [],
   "source": [
    "#open the browser\n",
    "\n",
    "driver_A=webdriver.Chrome()\n",
    "\n",
    "#load the webpage\n",
    "driver_A.get(\"https://www.redbus.in/online-booking/apsrtc/?utm_source=rtchometile\")\n",
    "\n",
    "time.sleep(3)\n",
    "\n",
    "driver_A.maximize_window()"
   ]
  },
  {
   "cell_type": "code",
   "execution_count": null,
   "metadata": {},
   "outputs": [],
   "source": [
    "#retrive  bus links and route\n",
    "wait = WebDriverWait(driver_A, 20)\n",
    "def Andhra_link_route(path):   \n",
    "    LINKS_ANDHRA=[]\n",
    "    ROUTE_ANDHRA=[]\n",
    "    # retrive the route links \n",
    "    for i in range(1,5):\n",
    "        paths=driver_A.find_elements(By.XPATH,path)\n",
    "        \n",
    "        for links in paths:\n",
    "            d = links.get_attribute(\"href\")\n",
    "            LINKS_ANDHRA.append(d)\n",
    "            \n",
    "        # retrive names of the routes\n",
    "        for route in paths:\n",
    "            ROUTE_ANDHRA.append(route.text)\n",
    "            \n",
    "        try:\n",
    "            # Wait for the pagination element to be present\n",
    "            pagination = wait.until(EC.presence_of_element_located((By.XPATH, '//*[@class=\"DC_117_paginationTable\"]')))\n",
    "            next_button = pagination.find_element(By.XPATH, f'//div[@class=\"DC_117_pageTabs \" and text()={i+1}]')\n",
    "            time.sleep(3)\n",
    "            next_button.click()\n",
    "            \n",
    "        except NoSuchElementException:\n",
    "            print(f\"No more pages to paginate at step {i}\")\n",
    "            break\n",
    "            \n",
    "    return LINKS_ANDHRA,ROUTE_ANDHRA\n",
    "\n",
    "LINKS_ANDHRA,ROUTE_ANDHRA=Andhra_link_route(\"//a[@class='route']\")"
   ]
  },
  {
   "cell_type": "code",
   "execution_count": null,
   "metadata": {},
   "outputs": [],
   "source": [
    "df_A=pd.DataFrame({\"Route_name\":ROUTE_ANDHRA,\"Route_link\":LINKS_ANDHRA})\n",
    "df_A"
   ]
  },
  {
   "cell_type": "code",
   "execution_count": null,
   "metadata": {},
   "outputs": [],
   "source": [
    "# change dataframe to csv\n",
    "path=r\"C:/Users/Kavitha/Desktop/CAPSTONE PROJECT/redbus/df_A.csv\"\n",
    "df_A.to_csv(path,index=False)"
   ]
  },
  {
   "cell_type": "markdown",
   "metadata": {},
   "source": [
    "# Telungana routes"
   ]
  },
  {
   "cell_type": "code",
   "execution_count": null,
   "metadata": {},
   "outputs": [],
   "source": [
    "#open the browser\n",
    "\n",
    "driver_T=webdriver.Chrome()\n",
    "\n",
    "#load the webpage\n",
    "driver_T.get(\"https://www.redbus.in/online-booking/tsrtc/?utm_source=rtchometile\")\n",
    "\n",
    "time.sleep(3)\n",
    "\n",
    "driver_T.maximize_window()"
   ]
  },
  {
   "cell_type": "code",
   "execution_count": null,
   "metadata": {},
   "outputs": [],
   "source": [
    "#retrive bus links and route\n",
    "wait = WebDriverWait(driver_T, 20)\n",
    "def Telugana_link_route(path):   \n",
    "    LINKS_TELUGANA=[]\n",
    "    ROUTE_TELUGANA=[]\n",
    "    \n",
    "    for i in range(1,4):\n",
    "        paths=driver_T.find_elements(By.XPATH,path)\n",
    "        # retrive the route links \n",
    "        for links in paths:\n",
    "            d = links.get_attribute(\"href\")\n",
    "            LINKS_TELUGANA.append(d)\n",
    "            \n",
    "        # retrive names of the routes\n",
    "        for route in paths:\n",
    "            ROUTE_TELUGANA.append(route.text)\n",
    "            \n",
    "        try:\n",
    "            # Wait for the pagination element to be present\n",
    "            pagination = wait.until(EC.presence_of_element_located((By.XPATH, '//*[@class=\"DC_117_paginationTable\"]')))\n",
    "            next_button = pagination.find_element(By.XPATH, f'//div[@class=\"DC_117_pageTabs \" and text()={i+1}]')\n",
    "            time.sleep(3)\n",
    "            next_button.click()\n",
    "            \n",
    "        except NoSuchElementException:\n",
    "            print(f\"No more pages to paginate at step {i}\")\n",
    "            break\n",
    "            \n",
    "    return LINKS_TELUGANA,ROUTE_TELUGANA\n",
    "\n",
    "LINKS_TELUGANA,ROUTE_TELUGANA=Telugana_link_route(\"//a[@class='route']\")"
   ]
  },
  {
   "cell_type": "code",
   "execution_count": null,
   "metadata": {},
   "outputs": [],
   "source": [
    "df_T=pd.DataFrame({\"Route_name\":ROUTE_TELUGANA,\"Route_link\":LINKS_TELUGANA})\n",
    "df_T"
   ]
  },
  {
   "cell_type": "code",
   "execution_count": null,
   "metadata": {},
   "outputs": [],
   "source": [
    "# change dataframe to csv\n",
    "path=r\"C:/Users/Kavitha/Desktop/CAPSTONE PROJECT/redbus/df_T.csv\"\n",
    "df_T.to_csv(path,index=False)"
   ]
  },
  {
   "cell_type": "markdown",
   "metadata": {},
   "source": [
    "# Goa routes"
   ]
  },
  {
   "cell_type": "code",
   "execution_count": null,
   "metadata": {},
   "outputs": [],
   "source": [
    "#open the browser\n",
    "\n",
    "driver_G=webdriver.Chrome()\n",
    "\n",
    "#load the webpage\n",
    "driver_G.get(\"https://www.redbus.in/online-booking/ktcl/?utm_source=rtchometile\")\n",
    "\n",
    "time.sleep(3)\n",
    "\n",
    "driver_G.maximize_window()"
   ]
  },
  {
   "cell_type": "code",
   "execution_count": null,
   "metadata": {},
   "outputs": [],
   "source": [
    "#retrive bus links and route\n",
    "wait = WebDriverWait(driver_G, 20)\n",
    "def Kadamba_link_route(path):   \n",
    "    LINKS_KADAMBA=[]\n",
    "    ROUTE_KADAMBA=[]\n",
    "    \n",
    "    for i in range(1,4):\n",
    "        paths=driver_G.find_elements(By.XPATH,path)\n",
    "        # retrive the route links \n",
    "        for links in paths:\n",
    "            d = links.get_attribute(\"href\")\n",
    "            LINKS_KADAMBA.append(d)\n",
    "            \n",
    "        # retrive names of the routes\n",
    "        for route in paths:\n",
    "            ROUTE_KADAMBA.append(route.text)\n",
    "            \n",
    "        try:\n",
    "            # Wait for the pagination element to be present\n",
    "            pagination = wait.until(EC.presence_of_element_located((By.XPATH, '//*[@class=\"DC_117_paginationTable\"]')))\n",
    "            next_button = pagination.find_element(By.XPATH, f'//div[@class=\"DC_117_pageTabs \" and text()={i+1}]')\n",
    "            time.sleep(3)\n",
    "            next_button.click()\n",
    "            \n",
    "        except NoSuchElementException:\n",
    "            print(f\"No more pages to paginate at step {i}\")\n",
    "            break\n",
    "            \n",
    "    return LINKS_KADAMBA,ROUTE_KADAMBA\n",
    "\n",
    "LINKS_KADAMBA,ROUTE_KADAMBA=Kadamba_link_route(\"//a[@class='route']\")"
   ]
  },
  {
   "cell_type": "code",
   "execution_count": null,
   "metadata": {},
   "outputs": [],
   "source": [
    "df_G=pd.DataFrame({\"Route_name\":ROUTE_KADAMBA,\"Route_link\":LINKS_KADAMBA})\n",
    "df_G"
   ]
  },
  {
   "cell_type": "code",
   "execution_count": null,
   "metadata": {},
   "outputs": [],
   "source": [
    "# change dataframe to csvp\n",
    "ath=r\"C:/Users/Kavitha/Desktop/CAPSTONE PROJECT/redbus/df_G.csv\"\n",
    "df_G.to_csv(path,index=False)"
   ]
  },
  {
   "cell_type": "markdown",
   "metadata": {},
   "source": [
    "# Rajastan routes"
   ]
  },
  {
   "cell_type": "code",
   "execution_count": null,
   "metadata": {},
   "outputs": [],
   "source": [
    "#open the browser\n",
    "\n",
    "driver_R=webdriver.Chrome()\n",
    "\n",
    "#load the webpage\n",
    "driver_R.get(\"https://www.redbus.in/online-booking/rsrtc/?utm_source=rtchometile\")\n",
    "\n",
    "time.sleep(3)\n",
    "\n",
    "driver_R.maximize_window()"
   ]
  },
  {
   "cell_type": "code",
   "execution_count": null,
   "metadata": {},
   "outputs": [],
   "source": [
    "#retrive bus links and route\n",
    "wait = WebDriverWait(driver_R, 20)\n",
    "def Rajastan_link_route(path):   \n",
    "    LINKS_RAJASTAN=[]\n",
    "    ROUTE_RAJASTAN=[]\n",
    "    \n",
    "    for i in range(1,4):\n",
    "        paths=driver_R.find_elements(By.XPATH,path)\n",
    "        # retrive the route links \n",
    "        for links in paths:\n",
    "            d = links.get_attribute(\"href\")\n",
    "            LINKS_RAJASTAN.append(d)\n",
    "            \n",
    "        # retrive names of the routes\n",
    "        for route in paths:\n",
    "            ROUTE_RAJASTAN.append(route.text)\n",
    "            \n",
    "        try:\n",
    "            # Wait for the pagination element to be present\n",
    "            pagination = wait.until(EC.presence_of_element_located((By.XPATH, '//*[@class=\"DC_117_paginationTable\"]')))\n",
    "            next_button = pagination.find_element(By.XPATH, f'//div[@class=\"DC_117_pageTabs \" and text()={i+1}]')\n",
    "            time.sleep(3)\n",
    "            next_button.click()\n",
    "            \n",
    "        except NoSuchElementException:\n",
    "            print(f\"No more pages to paginate at step {i}\")\n",
    "            break\n",
    "            \n",
    "    return LINKS_RAJASTAN,ROUTE_RAJASTAN\n",
    "\n",
    "LINKS_RAJASTAN,ROUTE_RAJASTAN=Rajastan_link_route(\"//a[@class='route']\")"
   ]
  },
  {
   "cell_type": "code",
   "execution_count": null,
   "metadata": {},
   "outputs": [],
   "source": [
    "df_R=pd.DataFrame({\"Route_name\":ROUTE_RAJASTAN,\"Route_link\":LINKS_RAJASTAN})\n",
    "df_R"
   ]
  },
  {
   "cell_type": "code",
   "execution_count": null,
   "metadata": {},
   "outputs": [],
   "source": [
    "# change dataframe to csv\n",
    "path=r\"C:/Users/Kavitha/Desktop/CAPSTONE PROJECT/redbus/df_R.csv\"\n",
    "df_R.to_csv(path,index=False)"
   ]
  },
  {
   "cell_type": "markdown",
   "metadata": {},
   "source": [
    "# south bengal routes"
   ]
  },
  {
   "cell_type": "code",
   "execution_count": null,
   "metadata": {},
   "outputs": [],
   "source": [
    "#open the browser\n",
    "\n",
    "driver_SB=webdriver.Chrome()\n",
    "\n",
    "#load the webpage\n",
    "\n",
    "driver_SB.get(\"https://www.redbus.in/online-booking/south-bengal-state-transport-corporation-sbstc/?utm_source=rtchometile\")\n",
    "\n",
    "time.sleep(3)\n",
    "\n",
    "driver_SB.maximize_window()"
   ]
  },
  {
   "cell_type": "code",
   "execution_count": null,
   "metadata": {},
   "outputs": [],
   "source": [
    "#retrive bus links and route\n",
    "wait = WebDriverWait(driver_SB, 20)\n",
    "def Southbengal_link_route(path):   \n",
    "    LINKS_SOUTHBENGAL=[]\n",
    "    ROUTE_SOUTHBENGAL=[]\n",
    "    \n",
    "    for i in range(1,6):\n",
    "        paths=driver_SB.find_elements(By.XPATH,path)\n",
    "        # retrive the route links \n",
    "        for links in paths:\n",
    "            d = links.get_attribute(\"href\")\n",
    "            LINKS_SOUTHBENGAL.append(d)\n",
    "            \n",
    "        # retrive names of the routes\n",
    "        for route in paths:\n",
    "            ROUTE_SOUTHBENGAL.append(route.text)\n",
    "            \n",
    "        try:\n",
    "            # Wait for the pagination element to be present\n",
    "            pagination = wait.until(EC.presence_of_element_located((By.XPATH, '//*[@class=\"DC_117_paginationTable\"]')))\n",
    "            next_button = pagination.find_element(By.XPATH, f'//div[@class=\"DC_117_pageTabs \" and text()={i+1}]')\n",
    "            time.sleep(3)\n",
    "            next_button.click()\n",
    "            \n",
    "        except NoSuchElementException:\n",
    "            print(f\"No more pages to paginate at step {i}\")\n",
    "            break\n",
    "            \n",
    "    return LINKS_SOUTHBENGAL,ROUTE_SOUTHBENGAL\n",
    "\n",
    "LINKS_SOUTHBENGAL,ROUTE_SOUTHBENGAL=Southbengal_link_route(\"//a[@class='route']\")"
   ]
  },
  {
   "cell_type": "code",
   "execution_count": null,
   "metadata": {},
   "outputs": [],
   "source": [
    "df_SB=pd.DataFrame({\"Route_name\":ROUTE_SOUTHBENGAL,\"Route_link\":LINKS_SOUTHBENGAL})\n",
    "df_SB"
   ]
  },
  {
   "cell_type": "code",
   "execution_count": null,
   "metadata": {},
   "outputs": [],
   "source": [
    "# change dataframe to csv\n",
    "path=r\"C:/Users/Kavitha/Desktop/CAPSTONE PROJECT/redbus/df_SB.csv\"\n",
    "df_SB.to_csv(path,index=False)"
   ]
  },
  {
   "cell_type": "markdown",
   "metadata": {},
   "source": [
    "# Haryana routes"
   ]
  },
  {
   "cell_type": "code",
   "execution_count": null,
   "metadata": {},
   "outputs": [],
   "source": [
    "#open the browser\n",
    "\n",
    "driver_H=webdriver.Chrome()\n",
    "\n",
    "#load the webpage\n",
    "\n",
    "driver_H.get(\"https://www.redbus.in/online-booking/hrtc/?utm_source=rtchometile\")\n",
    "\n",
    "time.sleep(3)\n",
    "\n",
    "driver_H.maximize_window()"
   ]
  },
  {
   "cell_type": "code",
   "execution_count": null,
   "metadata": {},
   "outputs": [],
   "source": [
    "#retrive bus links and route\n",
    "wait = WebDriverWait(driver_H, 20)\n",
    "def Haryana_link_route(path):   \n",
    "    LINKS_HARYANA=[]\n",
    "    ROUTE_HARYANA=[]\n",
    "    \n",
    "    for i in range(1,6):\n",
    "        paths=driver_H.find_elements(By.XPATH,path)\n",
    "        # retrive the route links \n",
    "        for links in paths:\n",
    "            d = links.get_attribute(\"href\")\n",
    "            LINKS_HARYANA.append(d)\n",
    "            \n",
    "        # retrive names of the routes\n",
    "        for route in paths:\n",
    "            ROUTE_HARYANA.append(route.text)\n",
    "            \n",
    "        try:\n",
    "            # Wait for the pagination element to be present\n",
    "            pagination = wait.until(EC.presence_of_element_located((By.XPATH, '//*[@class=\"DC_117_paginationTable\"]')))\n",
    "            next_button = pagination.find_element(By.XPATH, f'//div[@class=\"DC_117_pageTabs \" and text()={i+1}]')\n",
    "            time.sleep(3)\n",
    "            next_button.click()\n",
    "            \n",
    "        except NoSuchElementException:\n",
    "            print(f\"No more pages to paginate at step {i}\")\n",
    "            break\n",
    "            \n",
    "    return LINKS_HARYANA,ROUTE_HARYANA\n",
    "\n",
    "LINKS_HARYANA,ROUTE_HARYANA=Haryana_link_route(\"//a[@class='route']\")"
   ]
  },
  {
   "cell_type": "code",
   "execution_count": null,
   "metadata": {},
   "outputs": [],
   "source": [
    "df_H=pd.DataFrame({\"Route_name\":ROUTE_HARYANA,\"Route_link\":LINKS_HARYANA})\n",
    "df_H"
   ]
  },
  {
   "cell_type": "code",
   "execution_count": null,
   "metadata": {},
   "outputs": [],
   "source": [
    "# change dataframe to csv\n",
    "path=r\"C:/Users/Kavitha/Desktop/CAPSTONE PROJECT/redbus/df_H.csv\"\n",
    "df_H.to_csv(path,index=False)"
   ]
  },
  {
   "cell_type": "markdown",
   "metadata": {},
   "source": [
    "# Assam routes\n"
   ]
  },
  {
   "cell_type": "code",
   "execution_count": null,
   "metadata": {},
   "outputs": [],
   "source": [
    "#open the browser\n",
    "\n",
    "driver_AS=webdriver.Chrome()\n",
    "\n",
    "#load the webpage\n",
    "\n",
    "driver_AS.get(\"https://www.redbus.in/online-booking/astc/?utm_source=rtchometile\")\n",
    "\n",
    "time.sleep(3)\n",
    "\n",
    "driver_AS.maximize_window()"
   ]
  },
  {
   "cell_type": "code",
   "execution_count": null,
   "metadata": {},
   "outputs": [],
   "source": [
    "#retrive bus links and route\n",
    "wait = WebDriverWait(driver_AS, 20)\n",
    "def Assam_link_route(path):   \n",
    "    LINKS_ASSAM=[]\n",
    "    ROUTE_ASSAM=[]\n",
    "    \n",
    "    for i in range(1,5):\n",
    "        paths=driver_AS.find_elements(By.XPATH,path)\n",
    "        # retrive the route links \n",
    "        for links in paths:\n",
    "            d = links.get_attribute(\"href\")\n",
    "            LINKS_ASSAM.append(d)\n",
    "            \n",
    "        # retrive names of the routes\n",
    "        for route in paths:\n",
    "            ROUTE_ASSAM.append(route.text)\n",
    "            \n",
    "        try:\n",
    "            # Wait for the pagination element to be present\n",
    "            pagination = wait.until(EC.presence_of_element_located((By.XPATH, '//*[@class=\"DC_117_paginationTable\"]')))\n",
    "            next_button = pagination.find_element(By.XPATH, f'//div[@class=\"DC_117_pageTabs \" and text()={i+1}]')\n",
    "            time.sleep(3)\n",
    "            next_button.click()\n",
    "            \n",
    "        except NoSuchElementException:\n",
    "            print(f\"No more pages to paginate at step {i}\")\n",
    "            break\n",
    "            \n",
    "    return LINKS_ASSAM,ROUTE_ASSAM\n",
    "\n",
    "LINKS_ASSAM,ROUTE_ASSAM=Assam_link_route(\"//a[@class='route']\")"
   ]
  },
  {
   "cell_type": "code",
   "execution_count": null,
   "metadata": {},
   "outputs": [],
   "source": [
    "df_AS=pd.DataFrame({\"Route_name\":ROUTE_ASSAM,\"Route_link\":LINKS_ASSAM})\n",
    "df_AS"
   ]
  },
  {
   "cell_type": "code",
   "execution_count": null,
   "metadata": {},
   "outputs": [],
   "source": [
    "# change dataframe to csv\n",
    "path=r\"C:/Users/Kavitha/Desktop/CAPSTONE PROJECT/redbus/df_AS.csv\"\n",
    "df_AS.to_csv(path,index=False)"
   ]
  },
  {
   "cell_type": "markdown",
   "metadata": {},
   "source": [
    "# Uttra pradesh routes"
   ]
  },
  {
   "cell_type": "code",
   "execution_count": null,
   "metadata": {},
   "outputs": [],
   "source": [
    "#open the browser\n",
    "\n",
    "driver_UP=webdriver.Chrome()\n",
    "\n",
    "#load the webpage\n",
    "\n",
    "driver_UP.get(\"https://www.redbus.in/online-booking/uttar-pradesh-state-road-transport-corporation-upsrtc/?utm_source=rtchometile\")\n",
    "\n",
    "time.sleep(3)\n",
    "\n",
    "driver_UP.maximize_window()"
   ]
  },
  {
   "cell_type": "code",
   "execution_count": null,
   "metadata": {},
   "outputs": [],
   "source": [
    "#retrive bus links and route\n",
    "wait = WebDriverWait(driver_UP, 20)\n",
    "def UP_link_route(path):   \n",
    "    LINKS_UP=[]\n",
    "    ROUTE_UP=[]\n",
    "    \n",
    "    for i in range(1,6):\n",
    "        paths=driver_UP.find_elements(By.XPATH,path)\n",
    "        # retrive the route links \n",
    "        for links in paths:\n",
    "            d = links.get_attribute(\"href\")\n",
    "            LINKS_UP.append(d)\n",
    "            \n",
    "        # retrive names of the routes\n",
    "        for route in paths:\n",
    "            ROUTE_UP.append(route.text)\n",
    "            \n",
    "        try:\n",
    "            # Wait for the pagination element to be present\n",
    "            pagination = wait.until(EC.presence_of_element_located((By.XPATH, '//*[@class=\"DC_117_paginationTable\"]')))\n",
    "            next_button = pagination.find_element(By.XPATH, f'//div[@class=\"DC_117_pageTabs \" and text()={i+1}]')\n",
    "            time.sleep(3)\n",
    "            next_button.click()\n",
    "            \n",
    "        except NoSuchElementException:\n",
    "            print(f\"No more pages to paginate at step {i}\")\n",
    "            break\n",
    "            \n",
    "    return LINKS_UP,ROUTE_UP\n",
    "\n",
    "LINKS_UP,ROUTE_UP=UP_link_route(\"//a[@class='route']\")"
   ]
  },
  {
   "cell_type": "code",
   "execution_count": null,
   "metadata": {},
   "outputs": [],
   "source": [
    "df_UP=pd.DataFrame({\"Route_name\":ROUTE_UP,\"Route_link\":LINKS_UP})\n",
    "df_UP"
   ]
  },
  {
   "cell_type": "code",
   "execution_count": null,
   "metadata": {},
   "outputs": [],
   "source": [
    "# change dataframe to csv\n",
    "path=r\"C:/Users/Kavitha/Desktop/CAPSTONE PROJECT/redbus/df_UP.csv\"\n",
    "df_UP.to_csv(path,index=False)"
   ]
  },
  {
   "cell_type": "markdown",
   "metadata": {},
   "source": [
    "# west bengal routes"
   ]
  },
  {
   "cell_type": "code",
   "execution_count": null,
   "metadata": {},
   "outputs": [],
   "source": [
    "#open the browser\n",
    "\n",
    "driver_WB=webdriver.Chrome()\n",
    "\n",
    "#load the webpage\n",
    "\n",
    "driver_WB.get(\"https://www.redbus.in/online-booking/wbtc-ctc/?utm_source=rtchometile\")\n",
    "\n",
    "time.sleep(3)\n",
    "\n",
    "driver_WB.maximize_window()"
   ]
  },
  {
   "cell_type": "code",
   "execution_count": null,
   "metadata": {},
   "outputs": [],
   "source": [
    "#retrive bus links and route\n",
    "wait = WebDriverWait(driver_WB, 20)\n",
    "def Westbengal_link_route(path):   \n",
    "    LINKS_WESTBENGAL=[]\n",
    "    ROUTE_WESTBENGAL=[]\n",
    "    \n",
    "    for i in range(1,6):\n",
    "        paths=driver_WB.find_elements(By.XPATH,path)\n",
    "        # retrive the route links \n",
    "        for links in paths:\n",
    "            d = links.get_attribute(\"href\")\n",
    "            LINKS_WESTBENGAL.append(d)\n",
    "            \n",
    "        # retrive names of the routes\n",
    "        for route in paths:\n",
    "            ROUTE_WESTBENGAL.append(route.text)\n",
    "            \n",
    "        try:\n",
    "            # Wait for the pagination element to be present\n",
    "            pagination = wait.until(EC.presence_of_element_located((By.XPATH, '//*[@class=\"DC_117_paginationTable\"]')))\n",
    "            next_button = pagination.find_element(By.XPATH, f'//div[@class=\"DC_117_pageTabs \" and text()={i+1}]')\n",
    "            time.sleep(3)\n",
    "            next_button.click()\n",
    "            \n",
    "        except NoSuchElementException:\n",
    "            print(f\"No more pages to paginate at step {i}\")\n",
    "            break\n",
    "            \n",
    "    return LINKS_WESTBENGAL,ROUTE_WESTBENGAL\n",
    "\n",
    "LINKS_WESTBENGAL,ROUTE_WESTBENGAL=Westbengal_link_route(\"//a[@class='route']\")"
   ]
  },
  {
   "cell_type": "code",
   "execution_count": null,
   "metadata": {},
   "outputs": [],
   "source": [
    "df_WB=pd.DataFrame({\"Route_name\":ROUTE_WESTBENGAL,\"Route_link\":LINKS_WESTBENGAL})\n",
    "df_WB"
   ]
  },
  {
   "cell_type": "code",
   "execution_count": null,
   "metadata": {},
   "outputs": [],
   "source": [
    "# change dataframe to csv\n",
    "path=r\"C:/Users/Kavitha/Desktop/CAPSTONE PROJECT/redbus/df_WB.csv\"\n",
    "df_WB.to_csv(path,index=False)"
   ]
  },
  {
   "cell_type": "code",
   "execution_count": null,
   "metadata": {},
   "outputs": [],
   "source": [
    "# concat all the bus link and route names in one dataframe\n",
    "df=pd.concat([df_k,df_A,df_T,df_G,df_R,df_H,df_SB,df_AS,df_UP,df_WB],ignore_index=True)\n",
    "df"
   ]
  },
  {
   "cell_type": "code",
   "execution_count": null,
   "metadata": {},
   "outputs": [],
   "source": [
    "# change dataframe to csv\n",
    "path=r\"C:/Users/Kavitha/Desktop/CAPSTONE PROJECT/redbus/df_route.csv\"\n",
    "df.to_csv(path,index=False)"
   ]
  }
 ],
 "metadata": {
  "kernelspec": {
   "display_name": "Python 3 (ipykernel)",
   "language": "python",
   "name": "python3"
  },
  "language_info": {
   "codemirror_mode": {
    "name": "ipython",
    "version": 3
   },
   "file_extension": ".py",
   "mimetype": "text/x-python",
   "name": "python",
   "nbconvert_exporter": "python",
   "pygments_lexer": "ipython3",
   "version": "3.11.4"
  }
 },
 "nbformat": 4,
 "nbformat_minor": 2
}
